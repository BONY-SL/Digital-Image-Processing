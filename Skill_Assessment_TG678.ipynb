{
  "nbformat": 4,
  "nbformat_minor": 0,
  "metadata": {
    "colab": {
      "provenance": [],
      "authorship_tag": "ABX9TyMBWsIvUrBqEl3ketxL/CAt",
      "include_colab_link": true
    },
    "kernelspec": {
      "name": "python3",
      "display_name": "Python 3"
    },
    "language_info": {
      "name": "python"
    }
  },
  "cells": [
    {
      "cell_type": "markdown",
      "metadata": {
        "id": "view-in-github",
        "colab_type": "text"
      },
      "source": [
        "<a href=\"https://colab.research.google.com/github/BONY-SL/Digital-Image-Processing/blob/main/Skill_Assessment_TG678.ipynb\" target=\"_parent\"><img src=\"https://colab.research.google.com/assets/colab-badge.svg\" alt=\"Open In Colab\"/></a>"
      ]
    },
    {
      "cell_type": "code",
      "execution_count": 39,
      "metadata": {
        "id": "daK-0czHh1BO"
      },
      "outputs": [],
      "source": [
        "import cv2\n",
        "from google.colab.patches import cv2_imshow\n",
        "import numpy as np\n",
        "\n",
        "# import libries\n",
        "\n",
        "\n"
      ]
    },
    {
      "cell_type": "code",
      "source": [
        "# 1.\tRead and display the given image (image_01.jpg).\n",
        "\n",
        "get_image = cv2.imread(\"image_01.jpg\")\n",
        "\n",
        "cv2_imshow(get_image)\n",
        "\n",
        "height , width , channels = get_image.shape\n",
        "print(\"Image Height :\",height)\n",
        "print(\"Image Width :\",width)\n",
        "print(\"Number of Image Channels :\",channels)\n",
        "\n",
        "total_num_pixels = get_image.size\n",
        "print(\"Total Number of Pixels : \",total_num_pixels)\n",
        "\n",
        "#get Image Data Type\n",
        "print(\"Image Data Type : \",get_image.dtype)\n",
        "\n",
        "\n",
        "\n",
        "\n"
      ],
      "metadata": {
        "id": "JiuUucOoicPv"
      },
      "execution_count": null,
      "outputs": []
    },
    {
      "cell_type": "code",
      "source": [
        "# 3.\tConvert the given image (image_01.jpg)  to a grayscale image and display.\n",
        "\n",
        "gray_image = cv2.cvtColor(get_image,cv2.COLOR_BGR2GRAY)\n",
        "cv2_imshow(gray_image)"
      ],
      "metadata": {
        "id": "zuuWZRnOlJEr"
      },
      "execution_count": null,
      "outputs": []
    },
    {
      "cell_type": "code",
      "source": [
        "# 4.\tResize the  given image (image_1.jpg)  according to the following width and height\n",
        "\n",
        "img_get = cv2.imread(\"image_01.jpg\")\n",
        "# with 270 px , height 180 px\n",
        "resize_img = cv2.resize(img_get,(270,180))\n",
        "cv2_imshow(resize_img)"
      ],
      "metadata": {
        "id": "6iYcP2CQlmZK"
      },
      "execution_count": null,
      "outputs": []
    },
    {
      "cell_type": "code",
      "source": [
        "# Rotate the given image (image_1.jpg) by 90 degrees and display\n",
        "\n",
        "rotate_img = cv2.rotate(img_get,cv2.ROTATE_90_CLOCKWISE)\n",
        "cv2_imshow(rotate_img)"
      ],
      "metadata": {
        "id": "HVDVEQvGmBmw"
      },
      "execution_count": null,
      "outputs": []
    },
    {
      "cell_type": "code",
      "source": [
        "# 6.\tBlurring the given Image using “Gaussian Blur” according to the following kernel size and the standard deviation.\n",
        "\n",
        "# Kernel size 17\n",
        "# Standard Deviation set automatically\n",
        "\n",
        "blur_img = cv2.GaussianBlur(img_get,(17,17),0)\n",
        "cv2_imshow(blur_img)"
      ],
      "metadata": {
        "id": "90BzTeQNmiKB"
      },
      "execution_count": null,
      "outputs": []
    },
    {
      "cell_type": "code",
      "source": [
        "# 7.\tDraw a rectangle on the given image (image_01.jpg)\n",
        "# the top-left corner of the given image according to the given coordinates (x=50, y=50).\n",
        "# with 200px height 150px\n",
        "# write the name inside the rectangle\n",
        "\n",
        "cv2.rectangle(img_get,(50,50),(250,150),(0,255,0),2)\n",
        "cv2_imshow(img_get)\n",
        "\n",
        "\n",
        "\n",
        "\n",
        "\n",
        "\n",
        "\n",
        "\n",
        "\n",
        "\n",
        "\n"
      ],
      "metadata": {
        "id": "P2gCccjnnN7s"
      },
      "execution_count": null,
      "outputs": []
    },
    {
      "cell_type": "code",
      "source": [
        "# 8.\tModify the pixel values of the given image at the range of [0:9,0:9] to the given color parameters.\n",
        "# Color parameters [193, 224, 44]\n",
        "\n",
        "img_get[0:9,0:9] = [193,224,44]\n",
        "cv2_imshow(img_get)\n"
      ],
      "metadata": {
        "id": "LgQVWpwhpYnF"
      },
      "execution_count": null,
      "outputs": []
    }
  ]
}