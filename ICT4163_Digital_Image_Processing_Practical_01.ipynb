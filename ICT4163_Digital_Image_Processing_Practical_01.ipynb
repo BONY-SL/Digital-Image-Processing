{
  "nbformat": 4,
  "nbformat_minor": 0,
  "metadata": {
    "colab": {
      "provenance": [],
      "toc_visible": true,
      "authorship_tag": "ABX9TyNjgZ2xaXDv/9TaG/diU7jK",
      "include_colab_link": true
    },
    "kernelspec": {
      "name": "python3",
      "display_name": "Python 3"
    },
    "language_info": {
      "name": "python"
    }
  },
  "cells": [
    {
      "cell_type": "markdown",
      "metadata": {
        "id": "view-in-github",
        "colab_type": "text"
      },
      "source": [
        "<a href=\"https://colab.research.google.com/github/BONY-SL/Digital-Image-Processing/blob/main/ICT4163_Digital_Image_Processing_Practical_01.ipynb\" target=\"_parent\"><img src=\"https://colab.research.google.com/assets/colab-badge.svg\" alt=\"Open In Colab\"/></a>"
      ]
    },
    {
      "cell_type": "markdown",
      "source": [
        "# practical01\n"
      ],
      "metadata": {
        "id": "reSvSJ4ygi3F"
      }
    },
    {
      "cell_type": "code",
      "source": [
        "# Import the “cv2” (open cv) library and the “cv2_imshow” patch to the google collab.\n",
        "# Read and display the given image (image_1.jpg).\n",
        "\n",
        "import cv2\n",
        "from google.colab.patches import cv2_imshow\n",
        "import numpy as np\n",
        "\n",
        "# Read and display the given image (image_1.jpg).\n",
        "image = cv2.imread(\"image_1.jpg\");\n",
        "\n",
        "cv2_imshow(image)\n",
        "\n",
        "\n"
      ],
      "metadata": {
        "id": "GufgPNBxgp-R"
      },
      "execution_count": null,
      "outputs": []
    },
    {
      "cell_type": "code",
      "source": [
        " #Convert the given image (image_1.jpg) to a grayscale image and display\n",
        "gray_image = cv2.cvtColor(image,cv2.COLOR_BGR2GRAY)\n",
        "\n",
        "\n",
        "cv2_imshow(gray_image)"
      ],
      "metadata": {
        "id": "VEVXouZQrRUi"
      },
      "execution_count": null,
      "outputs": []
    },
    {
      "cell_type": "code",
      "source": [
        "# Resize the given image (image_1.jpg) according to the following width and height of pixles\n",
        "resized_image = cv2.resize(image,(600,400))\n",
        "\n",
        "cv2_imshow(resized_image)"
      ],
      "metadata": {
        "id": "GDJJSCI9rr2z"
      },
      "execution_count": null,
      "outputs": []
    },
    {
      "cell_type": "code",
      "source": [
        "# Rotate the given image (image_1.jpg) by 180 degrees and display.\n",
        "rotaed_image = cv2.rotate(image,cv2.ROTATE_180)\n",
        "\n",
        "cv2_imshow(rotaed_image)"
      ],
      "metadata": {
        "id": "z887mJWMsl9y"
      },
      "execution_count": null,
      "outputs": []
    },
    {
      "cell_type": "code",
      "source": [
        "# Blurring the given Image using “Gaussian Blur” according to the following kernel size and the standard deviation.\n",
        "\n",
        "blurred_image = cv2.GaussianBlur(image,(21,21),0)\n",
        "\n",
        "# I try using kenal size 20 but Exception Occurs because the standerd kenal size is required odd number\n",
        "# blurred_image = cv2.GaussianBlur(image,(20,20),0)\n",
        "cv2_imshow(blurred_image)"
      ],
      "metadata": {
        "id": "sdsNvkwBtL4M"
      },
      "execution_count": null,
      "outputs": []
    },
    {
      "cell_type": "code",
      "source": [
        "# Detect the edges of the given image (image_1.jpg) using Canny edge detector,\n",
        "\n",
        "\n",
        "gray_image = cv2.cvtColor(image, cv2.COLOR_BGR2GRAY)\n",
        "\n",
        "\n",
        "lower_threshold = 100\n",
        "upper_threshold = 200\n",
        "edges = cv2.Canny(gray_image, lower_threshold, upper_threshold)\n",
        "\n",
        "\n",
        "cv2_imshow(edges)\n"
      ],
      "metadata": {
        "id": "P4_NiqFLTHos"
      },
      "execution_count": null,
      "outputs": []
    },
    {
      "cell_type": "code",
      "source": [
        "# Draw a rectangle on the given image\n",
        "\n",
        "x, y = 50,50\n",
        "\n",
        "width, heigth = 450, 200\n",
        "\n",
        "rectangle_color = (0, 0 ,255)\n",
        "\n",
        "thickness = 2\n",
        "\n",
        "cv2.rectangle(image, (x,y),(x + width ,y + heigth), rectangle_color, thickness)\n",
        "\n",
        "\n",
        "font = cv2.FONT_HERSHEY_SIMPLEX\n",
        "text = \"TG/2020/678\"\n",
        "font_scale = 1\n",
        "font_color = (255, 255, 255)\n",
        "font_thickness = 2\n",
        "\n",
        "text_size = cv2.getTextSize(text, font, font_scale, font_thickness)[0]\n",
        "text_x = x + 10\n",
        "text_y = y + 10 + text_size[1]\n",
        "\n",
        "# Add the text\n",
        "cv2.putText(image, text, (text_x, text_y), font, font_scale, font_color, font_thickness)\n",
        "\n",
        "# Show the image with the rectangle and text\n",
        "cv2_imshow(image)\n"
      ],
      "metadata": {
        "id": "mvTVXJMtQvN7"
      },
      "execution_count": null,
      "outputs": []
    },
    {
      "cell_type": "code",
      "source": [
        "# Threshold the given image (image_1.jpg) using the following threshold value.\n",
        "\n",
        "\n",
        "_,thresholded_image = cv2.threshold(image, 130, 255, cv2.THRESH_BINARY)\n",
        "\n",
        "cv2_imshow(thresholded_image)\n"
      ],
      "metadata": {
        "id": "TepreyqITvJU"
      },
      "execution_count": null,
      "outputs": []
    }
  ]
}