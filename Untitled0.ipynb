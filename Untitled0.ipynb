{
  "nbformat": 4,
  "nbformat_minor": 0,
  "metadata": {
    "colab": {
      "provenance": [],
      "toc_visible": true,
      "authorship_tag": "ABX9TyOH+1UQxZPdUYY4LtIz4Bve",
      "include_colab_link": true
    },
    "kernelspec": {
      "name": "python3",
      "display_name": "Python 3"
    },
    "language_info": {
      "name": "python"
    }
  },
  "cells": [
    {
      "cell_type": "markdown",
      "metadata": {
        "id": "view-in-github",
        "colab_type": "text"
      },
      "source": [
        "<a href=\"https://colab.research.google.com/github/BONY-SL/Digital-Image-Processing/blob/main/Untitled0.ipynb\" target=\"_parent\"><img src=\"https://colab.research.google.com/assets/colab-badge.svg\" alt=\"Open In Colab\"/></a>"
      ]
    },
    {
      "cell_type": "code",
      "execution_count": null,
      "metadata": {
        "id": "8xoCOkjxLUVm",
        "colab": {
          "base_uri": "https://localhost:8080/"
        },
        "outputId": "561a8efc-bd6b-44d0-9adf-d85d3c8ef924"
      },
      "outputs": [
        {
          "output_type": "execute_result",
          "data": {
            "text/plain": [
              "True"
            ]
          },
          "metadata": {},
          "execution_count": 5
        }
      ],
      "source": [
        "import cv2\n",
        "\n",
        "# Load Image\n",
        "image = cv2.imread(\"image.jpg\");\n",
        "\n",
        "# Get Image Height and Width\n",
        "(h,w) = image.shape[:2]\n",
        "\n",
        "# Define the Center Of Image\n",
        "center = (w // 2, h // 2)\n",
        "\n",
        "#Create Rotaion Matrix for the Rotate\n",
        "matrix = cv2.getRotationMatrix2D(center , 180 , 1.0)\n",
        "\n",
        "# Perform The Rotation\n",
        "rotated_image = cv2.warpAffine(image , matrix,(w,h))\n",
        "\n",
        "# Save The Rotated Image\n",
        "cv2.imwrite(\"rotaed_image.jpg\",rotated_image)\n",
        "\n",
        "\n"
      ]
    },
    {
      "cell_type": "markdown",
      "source": [
        "# Draw Rectangle\n"
      ],
      "metadata": {
        "id": "4K70_WO5YIQs"
      }
    },
    {
      "cell_type": "code",
      "source": [
        "import cv2\n",
        "\n",
        "# Load Image\n",
        "image = cv2.imread(\"image.jpg\");\n",
        "\n",
        "cv2.rectangle(image,(50,50),(200,200),(250,0,0),3)\n",
        "\n",
        "cv2.putText(image,\"openCV\",(60,40),cv2.FONT_HERSHEY_SIMPLEX,1,(0,250,0),2)\n",
        "\n",
        "cv2.imwrite(\"drawRectangle.jpg\",image)\n"
      ],
      "metadata": {
        "colab": {
          "base_uri": "https://localhost:8080/"
        },
        "id": "F1TXL3N5YQyg",
        "outputId": "458ea8ae-40e8-4ddd-8b4e-9be878a6bda0"
      },
      "execution_count": null,
      "outputs": [
        {
          "output_type": "execute_result",
          "data": {
            "text/plain": [
              "True"
            ]
          },
          "metadata": {},
          "execution_count": 7
        }
      ]
    },
    {
      "cell_type": "markdown",
      "source": [
        "# Rotate Image\n"
      ],
      "metadata": {
        "id": "YJxicZj0N-aC"
      }
    },
    {
      "cell_type": "code",
      "source": [
        "import cv2\n",
        "\n",
        "# Load Image\n",
        "image = cv2.imread(\"image.jpg\");\n",
        "\n",
        "blurred_image = cv2.GaussianBlur(image,(15,15),0)\n",
        "\n",
        "cv2.imwrite(\"blurred_image.jpg\",blurred_image)\n"
      ],
      "metadata": {
        "colab": {
          "base_uri": "https://localhost:8080/"
        },
        "id": "UmWmYL7xTUU2",
        "outputId": "36a1f196-7784-4a6b-81fe-50c0f3aa689b"
      },
      "execution_count": null,
      "outputs": [
        {
          "output_type": "execute_result",
          "data": {
            "text/plain": [
              "True"
            ]
          },
          "metadata": {},
          "execution_count": 6
        }
      ]
    },
    {
      "cell_type": "markdown",
      "source": [
        "# tresholding\n"
      ],
      "metadata": {
        "id": "7OxBhRebalfX"
      }
    },
    {
      "cell_type": "code",
      "source": [
        "image = cv2.imread(\"image.jpg\");\n",
        "\n",
        "_,threshold_image = cv2.threshold(image,127,255,cv2.THRESH_BINARY)\n",
        "\n",
        "cv2.imwrite(\"threshold_image.jpg\",threshold_image)"
      ],
      "metadata": {
        "colab": {
          "base_uri": "https://localhost:8080/"
        },
        "id": "9_pFDx5eapDM",
        "outputId": "64cb45bc-0f27-4e0d-b7b2-6fa1caaeeae3"
      },
      "execution_count": null,
      "outputs": [
        {
          "output_type": "execute_result",
          "data": {
            "text/plain": [
              "True"
            ]
          },
          "metadata": {},
          "execution_count": 11
        }
      ]
    }
  ]
}