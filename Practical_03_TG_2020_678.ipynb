{
  "nbformat": 4,
  "nbformat_minor": 0,
  "metadata": {
    "colab": {
      "provenance": [],
      "include_colab_link": true
    },
    "kernelspec": {
      "name": "python3",
      "display_name": "Python 3"
    },
    "language_info": {
      "name": "python"
    }
  },
  "cells": [
    {
      "cell_type": "markdown",
      "metadata": {
        "id": "view-in-github",
        "colab_type": "text"
      },
      "source": [
        "<a href=\"https://colab.research.google.com/github/BONY-SL/Digital-Image-Processing/blob/main/Practical_03_TG_2020_678.ipynb\" target=\"_parent\"><img src=\"https://colab.research.google.com/assets/colab-badge.svg\" alt=\"Open In Colab\"/></a>"
      ]
    },
    {
      "cell_type": "code",
      "execution_count": null,
      "metadata": {
        "id": "GaAz4eAaUnb1"
      },
      "outputs": [],
      "source": [
        "import cv2\n",
        "from google.colab.patches import cv2_imshow"
      ]
    },
    {
      "cell_type": "code",
      "source": [
        "# 1. Load and display Image\n",
        "image_02 = cv2.imread(\"image_02.png\")\n",
        "cv2_imshow(image_02)"
      ],
      "metadata": {
        "id": "T1hywYkSWfwR"
      },
      "execution_count": null,
      "outputs": []
    },
    {
      "cell_type": "code",
      "source": [
        "# 2. Write the image back to the Google colab environment as \"Original_Image.jpg\"\n",
        "cv2.imwrite(\"Original_Image.jpg\", image_02)"
      ],
      "metadata": {
        "id": "sd2wZ7rVW5fU"
      },
      "execution_count": null,
      "outputs": []
    },
    {
      "cell_type": "code",
      "source": [
        "# 3. Assigne Writed Image For \"Org_image\" variable\n",
        "Org_image = cv2.imread(\"Original_Image.jpg\")\n"
      ],
      "metadata": {
        "id": "nk3vfHhEXfkD"
      },
      "execution_count": null,
      "outputs": []
    },
    {
      "cell_type": "code",
      "source": [
        "# 4. Dispaly the Original Image using \"Org_image\" variable\n",
        "cv2_imshow(Org_image)"
      ],
      "metadata": {
        "id": "RR3EYBqAYSPA"
      },
      "execution_count": null,
      "outputs": []
    },
    {
      "cell_type": "code",
      "source": [
        "from ast import mod\n",
        "# 5. Modify the pixel values of the given image at the range of [0:9,0:9] to the\n",
        "# given color parameters\n",
        "\n",
        "# Color Parameters [255,10,255]\n",
        "#Org_image[0:9,0:9] = [255,10,255]\n",
        "#cv2_imshow(Org_image)\n",
        "\n",
        "for x in range(10):\n",
        "  for y in range(10):\n",
        "    Org_image[x,y] = [255,10,255]\n",
        "cv2.imwrite(\"Modified_Image.jpg\", Org_image)\n",
        "\n",
        "modified_image = cv2.imread(\"Modified_Image.jpg\")\n",
        "cv2_imshow(modified_image)"
      ],
      "metadata": {
        "id": "uDRiRBawYsCU"
      },
      "execution_count": null,
      "outputs": []
    },
    {
      "cell_type": "code",
      "source": [
        "# 6. Access and Display the following properties of the given image\n",
        "height = Org_image.shape[0]\n",
        "print(\"Height : \", height)\n",
        "\n",
        "weight = Org_image.shape[1]\n",
        "print(\"Weight : \", weight)\n",
        "\n",
        "channel = Org_image.shape[2]\n",
        "print(\"Channel : \", channel)\n",
        "\n",
        "total_pixel = Org_image.size\n",
        "print(\"Total Pixel : \", total_pixel)\n",
        "\n",
        "data_type = Org_image.dtype\n",
        "print(\"Data Type : \", data_type)\n"
      ],
      "metadata": {
        "id": "JKv-FgRyaKiC"
      },
      "execution_count": null,
      "outputs": []
    },
    {
      "cell_type": "code",
      "source": [
        "# 7. Extract an ROT of 100x100 pixel from the top-left coner of the given\n",
        "# image and write new image as \"ROI.jpg\" in to the Google Colab environment\n",
        "\n",
        "roi = Org_image[0:100, 0:100]\n",
        "cv2.imwrite(\"ROI.jpg\", roi)\n"
      ],
      "metadata": {
        "id": "LtKR1NpYghga"
      },
      "execution_count": null,
      "outputs": []
    },
    {
      "cell_type": "code",
      "source": [
        "# show ROI.jpg image\n",
        "\n",
        "roi_show = cv2.imread(\"ROI.jpg\")\n",
        "\n",
        "cv2_imshow(roi_show)"
      ],
      "metadata": {
        "id": "xAK-k1JhhTnL"
      },
      "execution_count": null,
      "outputs": []
    },
    {
      "cell_type": "code",
      "source": [
        "# 8. Load the \"opencv_logo.png\" image into your Google colab environment which is given in the resource folder and split that image into its color channels (B,R,G) and display then seperately\n",
        "opencv_logo = cv2.imread(\"opencv_logo.png\")\n",
        "cv2_imshow(opencv_logo)\n",
        "\n",
        "B,G,R = cv2.split(opencv_logo)\n",
        "\n",
        "cv2_imshow(B)\n",
        "cv2_imshow(G)\n",
        "cv2_imshow(R)\n",
        "\n",
        "\n"
      ],
      "metadata": {
        "id": "EbX5pE0NiXNr"
      },
      "execution_count": null,
      "outputs": []
    },
    {
      "cell_type": "code",
      "source": [
        "# 11. Read the image \"opencv_logo.png\" and split in itno the seperate color channels as B,G,\n",
        "# and R Merge and Swap the color channels to obtain the following output\n",
        "\n",
        "\n",
        "import cv2\n",
        "from google.colab.patches import cv2_imshow\n",
        "\n",
        "# Read the image\n",
        "image = cv2.imread(\"opencv_logo.png\")\n",
        "\n",
        "# Split the image into B, G, R channels\n",
        "B, G, R = cv2.split(image)\n",
        "\n",
        "# Swap channels: Green -> Blue, Blue -> Red, Red -> Green\n",
        "swapped_image = cv2.merge([B, R, G])\n",
        "\n",
        "# Display the original and swapped images\n",
        "cv2_imshow(image)\n",
        "cv2_imshow(swapped_image)\n",
        "\n",
        "# Save the swapped image\n",
        "cv2.imwrite(\"swapped_opencv_logo.png\", swapped_image)\n",
        "\n"
      ],
      "metadata": {
        "id": "CFVOOztySpwW"
      },
      "execution_count": null,
      "outputs": []
    },
    {
      "cell_type": "code",
      "source": [
        "import cv2\n",
        "from google.colab.patches import cv2_imshow\n",
        "\n",
        "# Read the images\n",
        "image1 = cv2.imread(\"image_01.png\")\n",
        "image2 = cv2.imread(\"image_02.png\")\n",
        "\n",
        "# Check if images are loaded properly\n",
        "if image1 is None or image2 is None:\n",
        "    print(\"Error: One or both images could not be loaded. Check file paths.\")\n",
        "else:\n",
        "    # Resize image2 to match image1 dimensions\n",
        "    image2 = cv2.resize(image2, (image1.shape[1], image1.shape[0]))\n",
        "\n",
        "    # Add the images\n",
        "    added_image = cv2.add(image1, image2)\n",
        "\n",
        "    # Save and display the result\n",
        "    cv2.imwrite(\"added.png\", added_image)\n",
        "    cv2_imshow(added_image)\n"
      ],
      "metadata": {
        "id": "rOG3r5zefy-n"
      },
      "execution_count": null,
      "outputs": []
    },
    {
      "cell_type": "code",
      "source": [
        "# draw a rectangle\n",
        "import numpy as np\n",
        "import cv2\n",
        "from google.colab.patches import cv2_imshow\n",
        "\n",
        "rectangle = np.zeros((300,300), dtype=\"uint8\")\n",
        "cv2.rectangle(rectangle, (25,25), (275,275),255,-1)\n",
        "cv2_imshow(rectangle)\n",
        "\n",
        "\n",
        "# draw a circle\n",
        "circle = np.zeros((300,300), dtype=\"uint8\")\n",
        "cv2.circle(circle, (150,150), 150, 255, -1)\n",
        "cv2_imshow(circle)"
      ],
      "metadata": {
        "id": "jmrj0K6gh13T"
      },
      "execution_count": null,
      "outputs": []
    },
    {
      "cell_type": "code",
      "source": [
        "bitwiseAnd = cv2.bitwise_and(rectangle, circle)\n",
        "cv2_imshow(bitwiseAnd)"
      ],
      "metadata": {
        "id": "SqtzGvuul9qs"
      },
      "execution_count": null,
      "outputs": []
    },
    {
      "cell_type": "code",
      "source": [
        "# draw a rectangle\n",
        "import numpy as np\n",
        "import cv2\n",
        "from google.colab.patches import cv2_imshow\n",
        "\n",
        "rectangle = np.zeros((300,300), dtype=\"uint8\")\n",
        "cv2.rectangle(rectangle, (25,25), (275,275),255,-1)\n",
        "cv2_imshow(rectangle)\n",
        "\n",
        "\n",
        "# draw a circle\n",
        "circle = np.zeros((300,300), dtype=\"uint8\")\n",
        "cv2.circle(circle, (150,150), 150, 255, -1)\n",
        "cv2_imshow(circle)\n",
        "\n",
        "bitwiseOr = cv2.bitwise_or(rectangle, circle)\n",
        "cv2_imshow(bitwiseOr)"
      ],
      "metadata": {
        "id": "_UK0_fYcmXJT"
      },
      "execution_count": null,
      "outputs": []
    },
    {
      "cell_type": "code",
      "source": [
        "# draw a rectangle\n",
        "import numpy as np\n",
        "import cv2\n",
        "from google.colab.patches import cv2_imshow\n",
        "\n",
        "rectangle = np.zeros((300,300), dtype=\"uint8\")\n",
        "cv2.rectangle(rectangle, (25,25), (275,275),255,-1)\n",
        "cv2_imshow(rectangle)\n",
        "\n",
        "\n",
        "# draw a circle\n",
        "circle = np.zeros((300,300), dtype=\"uint8\")\n",
        "cv2.circle(circle, (150,150), 150, 255, -1)\n",
        "cv2_imshow(circle)\n",
        "\n",
        "bitwiseXOR = cv2.bitwise_xor(rectangle, circle)\n",
        "cv2_imshow(bitwiseXOR)"
      ],
      "metadata": {
        "id": "qBGuU8gwmqQK"
      },
      "execution_count": null,
      "outputs": []
    }
  ]
}