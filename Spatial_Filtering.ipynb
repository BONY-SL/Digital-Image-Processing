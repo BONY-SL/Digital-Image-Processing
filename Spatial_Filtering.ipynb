{
  "nbformat": 4,
  "nbformat_minor": 0,
  "metadata": {
    "colab": {
      "provenance": [],
      "toc_visible": true,
      "authorship_tag": "ABX9TyPxLajohcj+l6e3xEs/BCn1",
      "include_colab_link": true
    },
    "kernelspec": {
      "name": "python3",
      "display_name": "Python 3"
    },
    "language_info": {
      "name": "python"
    }
  },
  "cells": [
    {
      "cell_type": "markdown",
      "metadata": {
        "id": "view-in-github",
        "colab_type": "text"
      },
      "source": [
        "<a href=\"https://colab.research.google.com/github/BONY-SL/Digital-Image-Processing/blob/main/Spatial_Filtering.ipynb\" target=\"_parent\"><img src=\"https://colab.research.google.com/assets/colab-badge.svg\" alt=\"Open In Colab\"/></a>"
      ]
    },
    {
      "cell_type": "code",
      "execution_count": 42,
      "metadata": {
        "id": "FRsoEQ5rsCDD"
      },
      "outputs": [],
      "source": [
        "import matplotlib.pyplot as plt\n",
        "import cv2\n",
        "import numpy as np\n"
      ]
    },
    {
      "cell_type": "markdown",
      "source": [
        "# Lenier Spatial Filtering\n"
      ],
      "metadata": {
        "id": "aynsFCZPywRE"
      }
    },
    {
      "cell_type": "code",
      "source": [
        "img = cv2.imread(\"inputimage.png\",0);\n",
        "\n",
        "m, n = img.shape\n",
        "mask = np.ones([3,3], dtype=int)\n",
        "mask = mask/9\n",
        "img_new = np.zeros([m,n])"
      ],
      "metadata": {
        "id": "yorKGMpay8KM"
      },
      "execution_count": 43,
      "outputs": []
    },
    {
      "cell_type": "code",
      "source": [
        "for i in range(1, m-1):\n",
        "    for j in range(1, n-1):\n",
        "        temp = img[i-1, j-1]*mask[0, 0]+img[i-1, j]*mask[0, 1]+img[i-1, j + 1]*mask[0, 2]+img[i , j-1]*mask[1, 0]+img[i , j]*mask[1, 1]+img[i , j + 1]*mask[1, 2]+img[i + 1 , j -1]*mask[2 , 0]+img[i + 1 , j]*mask[2, 1]+img[i + 1 , j + 1]*mask[2, 2]\n",
        "        img_new[i, j]=temp\n",
        "\n",
        "img_new = img_new.astype(np.uint8)\n",
        "cv2.imwrite('output.png',img_new)\n"
      ],
      "metadata": {
        "colab": {
          "base_uri": "https://localhost:8080/",
          "height": 0
        },
        "id": "8IN9WE570ddh",
        "outputId": "a2cc3275-c6af-45c0-ba97-f9aeb7ba8e9a"
      },
      "execution_count": 44,
      "outputs": [
        {
          "output_type": "execute_result",
          "data": {
            "text/plain": [
              "True"
            ]
          },
          "metadata": {},
          "execution_count": 44
        }
      ]
    },
    {
      "cell_type": "code",
      "source": [
        "# display the original image using matplotlib\n",
        "\n",
        "plt.imshow(img, cmap='gray')\n",
        "plt.title('Original Image')\n",
        "plt.axis('off')\n",
        "plt.show()"
      ],
      "metadata": {
        "id": "rAQIdgBX3cnW"
      },
      "execution_count": null,
      "outputs": []
    },
    {
      "cell_type": "code",
      "source": [
        "# display the blurred image using matplotlib\n",
        "\n",
        "plt.imshow(img_new, cmap='gray')\n",
        "plt.title('Blurred Image')\n",
        "plt.axis('off')\n",
        "plt.show()"
      ],
      "metadata": {
        "id": "tfaQcPo23xsv"
      },
      "execution_count": null,
      "outputs": []
    },
    {
      "cell_type": "markdown",
      "source": [
        "# Gaussian Filter"
      ],
      "metadata": {
        "id": "URTWf-rO4v03"
      }
    },
    {
      "cell_type": "code",
      "source": [
        "image_g = cv2.imread(\"PEL-PTE-s5-4-600x800.jpg\",cv2.COLOR_BGR2RGB)\n",
        "\n",
        "img_rgb = cv2.cvtColor(image_g, cv2.COLOR_BGR2RGB)\n",
        "\n",
        "# Apply Gaussian Filter\n",
        "kernel_size = (15, 15)\n",
        "sigma_value = 0\n",
        "blurred_image = cv2.GaussianBlur(img_rgb, kernel_size, sigma_value)\n",
        "\n",
        "fig, axes = plt.subplots(1, 2, figsize=(12, 6))\n",
        "axes[0].imshow(img_rgb)\n",
        "axes[0].set_title('Original Image')\n",
        "axes[0].axis('off')\n",
        "\n",
        "axes[1].imshow(blurred_image)\n",
        "axes[1].set_title('Blurred Image')\n",
        "axes[1].axis('off')\n",
        "\n",
        "plt.show()\n",
        "\n"
      ],
      "metadata": {
        "id": "Fjry7pPt5Go2"
      },
      "execution_count": null,
      "outputs": []
    },
    {
      "cell_type": "markdown",
      "source": [
        "# Laplacian Filter"
      ],
      "metadata": {
        "id": "X2LuMNtd84VO"
      }
    },
    {
      "cell_type": "code",
      "source": [
        "image_g = cv2.imread(\"PEL-PTE-s5-4-600x800.jpg\",cv2.COLOR_BGR2GRAY)\n",
        "gray_image = cv2.cvtColor(image_g, cv2.COLOR_BGR2GRAY)\n",
        "laplacian_image = cv2.Laplacian(gray_image, cv2.CV_64F)\n",
        "\n",
        "fig, axes = plt.subplots(1, 2, figsize=(12, 6))\n",
        "axes[0].imshow(gray_image, cmap='gray')\n",
        "axes[0].set_title('Original Image')\n",
        "axes[0].axis('off')\n",
        "\n",
        "axes[1].imshow(laplacian_image, cmap='gray')\n",
        "axes[1].set_title('Laplacian Filtered Image')\n",
        "axes[1].axis('off')\n",
        "\n",
        "plt.show()\n"
      ],
      "metadata": {
        "id": "GQSV5tTB9A1_"
      },
      "execution_count": null,
      "outputs": []
    },
    {
      "cell_type": "markdown",
      "source": [
        "# Non Linear Spatial Filtering"
      ],
      "metadata": {
        "id": "iv8AAmw6_m3E"
      }
    },
    {
      "cell_type": "markdown",
      "source": [
        "# Median Order Filtering"
      ],
      "metadata": {
        "id": "arpiNrAX_7gk"
      }
    },
    {
      "cell_type": "code",
      "source": [
        "img_non_linear = cv2.imread(\"inputimage.png\",0);\n",
        "\n",
        "m, n = img_non_linear.shape\n",
        "\n",
        "image_new = np.zeros([m,n])\n",
        "\n",
        "for i in range(1 , m-1):\n",
        "  for j in range(1, n-1):\n",
        "    temp =[img_non_linear[i-1,j-1],\n",
        "           img_non_linear[i-1,j],\n",
        "           img_non_linear[i-1,j+1],\n",
        "           img_non_linear[i,j-1],\n",
        "           img_non_linear[i,j],\n",
        "           img_non_linear[i,j+1],\n",
        "           img_non_linear[i+1,j-1],\n",
        "           img_non_linear[i+1,j],\n",
        "           img_non_linear[i+1,j+1]]\n",
        "\n",
        "    temp = sorted(temp)\n",
        "    image_new[i,j] = temp[4]\n",
        "\n",
        "image_new = image_new.astype(np.uint8)\n",
        "cv2.imwrite('output_non_linear.png',image_new)\n"
      ],
      "metadata": {
        "colab": {
          "base_uri": "https://localhost:8080/",
          "height": 0
        },
        "id": "M7XSSB6lAF4m",
        "outputId": "92120c6e-b003-4280-cb90-2cb5d34017c1"
      },
      "execution_count": 49,
      "outputs": [
        {
          "output_type": "execute_result",
          "data": {
            "text/plain": [
              "True"
            ]
          },
          "metadata": {},
          "execution_count": 49
        }
      ]
    },
    {
      "cell_type": "code",
      "source": [
        "plt.imshow(img_non_linear, cmap='gray')\n",
        "plt.title('Original Image')\n",
        "plt.axis('off')\n",
        "plt.show()\n",
        "\n",
        "plt.imshow(image_new, cmap='gray')\n",
        "plt.title('Blurred Image')\n",
        "plt.axis('off')\n",
        "plt.show()\n",
        "\n"
      ],
      "metadata": {
        "id": "1BnaVR67C4zp"
      },
      "execution_count": null,
      "outputs": []
    }
  ]
}