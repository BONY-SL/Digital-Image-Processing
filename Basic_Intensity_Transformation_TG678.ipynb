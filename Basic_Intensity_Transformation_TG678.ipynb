{
  "cells": [
    {
      "cell_type": "markdown",
      "metadata": {
        "id": "view-in-github",
        "colab_type": "text"
      },
      "source": [
        "<a href=\"https://colab.research.google.com/github/BONY-SL/Digital-Image-Processing/blob/main/Basic_Intensity_Transformation_TG678.ipynb\" target=\"_parent\"><img src=\"https://colab.research.google.com/assets/colab-badge.svg\" alt=\"Open In Colab\"/></a>"
      ]
    },
    {
      "cell_type": "markdown",
      "metadata": {
        "id": "_d0TYXIkgbWl"
      },
      "source": [
        "# Negative Transformation\n"
      ]
    },
    {
      "cell_type": "code",
      "execution_count": null,
      "metadata": {
        "id": "xS-TtFm4gs-h"
      },
      "outputs": [],
      "source": [
        "import numpy as np\n",
        "import cv2\n",
        "import matplotlib.pyplot as plt\n",
        "\n",
        "get_owl_image = cv2.imread('owl.png')\n",
        "\n",
        "# show image\n",
        "plt.imshow(cv2.cvtColor(get_owl_image, cv2.COLOR_BGR2RGB))\n",
        "plt.show()\n",
        "\n",
        "# Create Negative Transformation Function\n",
        "\n",
        "def negative_transformation(r):\n",
        "    return 255 - r\n",
        "\n",
        "negative_image = negative_transformation(get_owl_image)\n",
        "\n",
        "# show image\n",
        "plt.imshow(negative_image)\n",
        "plt.show()\n"
      ]
    },
    {
      "cell_type": "markdown",
      "source": [
        "# log transformations"
      ],
      "metadata": {
        "id": "n4if8EOek7Fd"
      }
    },
    {
      "cell_type": "code",
      "source": [
        "import numpy as np\n",
        "import cv2\n",
        "import matplotlib.pyplot as plt\n",
        "\n",
        "get_image = cv2.imread('owl.png')\n",
        "\n",
        "# show image\n",
        "plt.imshow(cv2.cvtColor(get_owl_image, cv2.COLOR_BGR2RGB))\n",
        "plt.show()\n",
        "\n",
        "def logTransform(r, c):\n",
        "  return c * np.log(1.0+r)\n",
        "\n",
        "log_image = logTransform(get_image,1)\n",
        "\n",
        "# show image\n",
        "plt.imshow(log_image)\n",
        "plt.show()\n",
        "\n",
        "\n",
        "log_image2 = logTransform(get_image,45)\n",
        "\n",
        "# show image\n",
        "plt.imshow(log_image2)\n",
        "plt.show()\n"
      ],
      "metadata": {
        "id": "tsi2w3hWlF-H"
      },
      "execution_count": null,
      "outputs": []
    },
    {
      "cell_type": "markdown",
      "source": [
        "# Inverse-log transformations"
      ],
      "metadata": {
        "id": "MGyUJIovp0UB"
      }
    },
    {
      "cell_type": "code",
      "source": [
        "# Inverse-log transformations\n",
        "\n",
        "import numpy as np\n",
        "import cv2\n",
        "import matplotlib.pyplot as plt\n",
        "\n",
        "get_image = cv2.imread('owl.png')\n",
        "\n",
        "# show image\n",
        "plt.imshow(cv2.cvtColor(get_owl_image, cv2.COLOR_BGR2RGB))\n",
        "plt.show()\n",
        "\n",
        "def inverse_logTransform(r, c):\n",
        "  return c * (np.exp(1.0*r) - 1)\n",
        "\n",
        "inverse_log_1 = inverse_logTransform(get_image,1)\n",
        "\n",
        "# show image\n",
        "plt.imshow(inverse_log_1)\n",
        "plt.show()\n",
        "\n",
        "inverse_log_45 = inverse_logTransform(get_image,45)\n",
        "\n",
        "# show image\n",
        "plt.imshow(inverse_log_45)\n",
        "plt.show()\n"
      ],
      "metadata": {
        "id": "ydRIlt4Np71P"
      },
      "execution_count": null,
      "outputs": []
    },
    {
      "cell_type": "markdown",
      "source": [
        "# Power-law transformations\n"
      ],
      "metadata": {
        "id": "mxm3TQWcrS5q"
      }
    },
    {
      "cell_type": "code",
      "source": [
        "# Power-law transformations (Consider c = 1 )\n",
        "\n",
        "import numpy as np\n",
        "import cv2\n",
        "import matplotlib.pyplot as plt\n",
        "\n",
        "get_image = cv2.imread('owl.png')\n",
        "\n",
        "# show image\n",
        "plt.imshow(cv2.cvtColor(get_owl_image, cv2.COLOR_BGR2RGB))\n",
        "plt.show()\n",
        "\n",
        "\n",
        "def gammaTransform(r,gamma,c=1):\n",
        "  return c * np.power(r,gamma)\n",
        "\n",
        "# i)\tγ = 0.3, 0.4, 0.5\n",
        "\n",
        "gamma_03 = gammaTransform(get_image,0.3)\n",
        "\n",
        "plt.imshow(gamma_03)\n",
        "plt.show()\n",
        "\n",
        "gamma_04 = gammaTransform(get_image,0.4)\n",
        "\n",
        "\n",
        "plt.imshow(gamma_04)\n",
        "plt.show()\n",
        "\n",
        "gamma_05 = gammaTransform(get_image,0.5)\n",
        "\n",
        "\n",
        "plt.imshow(gamma_05)\n",
        "plt.show()\n",
        "\n",
        "# i)\tγ = 3.0 , 4.0 , 5.0\n",
        "\n",
        "gamma_3 = gammaTransform(get_image,3.0)\n",
        "\n",
        "plt.imshow(gamma_3)\n",
        "plt.show()\n",
        "\n",
        "gamma_4 = gammaTransform(get_image,4.0)\n",
        "\n",
        "\n",
        "plt.imshow(gamma_4)\n",
        "plt.show()\n",
        "\n",
        "gamma_5 = gammaTransform(get_image,5.0)\n",
        "\n",
        "\n",
        "plt.imshow(gamma_5)\n",
        "plt.show()\n",
        "\n"
      ],
      "metadata": {
        "id": "MQa598PrrXwD"
      },
      "execution_count": null,
      "outputs": []
    }
  ],
  "metadata": {
    "colab": {
      "toc_visible": true,
      "provenance": [],
      "collapsed_sections": [
        "_d0TYXIkgbWl",
        "n4if8EOek7Fd",
        "MGyUJIovp0UB",
        "mxm3TQWcrS5q"
      ],
      "authorship_tag": "ABX9TyOpazZPInxOyhTH+NZir1Kw",
      "include_colab_link": true
    },
    "kernelspec": {
      "display_name": "Python 3",
      "name": "python3"
    },
    "language_info": {
      "name": "python"
    }
  },
  "nbformat": 4,
  "nbformat_minor": 0
}