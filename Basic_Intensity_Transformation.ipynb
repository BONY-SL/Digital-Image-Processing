{
  "nbformat": 4,
  "nbformat_minor": 0,
  "metadata": {
    "colab": {
      "provenance": [],
      "toc_visible": true,
      "authorship_tag": "ABX9TyPHSgu5I57G+TH99PbVo8j7",
      "include_colab_link": true
    },
    "kernelspec": {
      "name": "python3",
      "display_name": "Python 3"
    },
    "language_info": {
      "name": "python"
    }
  },
  "cells": [
    {
      "cell_type": "markdown",
      "metadata": {
        "id": "view-in-github",
        "colab_type": "text"
      },
      "source": [
        "<a href=\"https://colab.research.google.com/github/BONY-SL/Digital-Image-Processing/blob/main/Basic_Intensity_Transformation.ipynb\" target=\"_parent\"><img src=\"https://colab.research.google.com/assets/colab-badge.svg\" alt=\"Open In Colab\"/></a>"
      ]
    },
    {
      "cell_type": "code",
      "execution_count": 2,
      "metadata": {
        "id": "CYpmR-xyVDtV"
      },
      "outputs": [],
      "source": [
        "import cv2\n",
        "import numpy as np\n",
        "import matplotlib.pyplot as plt\n",
        "plt.rcParams[\"figure.autolayout\"] = True"
      ]
    },
    {
      "cell_type": "markdown",
      "source": [
        "# Image - Negatives\n"
      ],
      "metadata": {
        "id": "3rbkvR7IcRHh"
      }
    },
    {
      "cell_type": "code",
      "source": [
        "# read image\n",
        "\n",
        "img = cv2.imread(\"Fig0304(a)(breast_digital_Xray).tif\")"
      ],
      "metadata": {
        "id": "6oSK1drMcdHu"
      },
      "execution_count": null,
      "outputs": []
    },
    {
      "cell_type": "code",
      "source": [
        "def negative(r):\n",
        "  return 255 - r"
      ],
      "metadata": {
        "id": "M0MwRy1fczjo"
      },
      "execution_count": null,
      "outputs": []
    },
    {
      "cell_type": "code",
      "source": [
        "x_value = np.linspace(0, 255, 500)\n",
        "y_value = negative(x_value)\n",
        "\n",
        "plt.plot(x_value,y_value)\n",
        "plt.xlabel(\"Input Intensity Level\")\n",
        "plt.ylabel(\"Output Intensity Level\")\n",
        "\n",
        "plt.title(\"Negative Transformation\")\n",
        "plt.show()"
      ],
      "metadata": {
        "id": "eqh0nP0Zde5-"
      },
      "execution_count": null,
      "outputs": []
    },
    {
      "cell_type": "code",
      "source": [
        "img_neg = negative(img)\n",
        "plt.imshow(img)"
      ],
      "metadata": {
        "id": "3tWEwEQlfgsn"
      },
      "execution_count": null,
      "outputs": []
    },
    {
      "cell_type": "code",
      "source": [
        "plt.imshow(img_neg)"
      ],
      "metadata": {
        "id": "AoDb_1xHfzEV"
      },
      "execution_count": null,
      "outputs": []
    },
    {
      "cell_type": "code",
      "source": [
        "def scale_image(input_image):\n",
        "  input_image = input_image / np.max(input_image)\n",
        "  input_image = (input_image*255).astype('int')\n",
        "  return input_image\n",
        "\n",
        "\n",
        "def plot_result(input_img , output_img , x_values , y_values ,save_as):\n",
        "\n",
        "  # ploting the graph\n",
        "  plt.figure(figsize= (36,12))\n",
        "\n",
        "  plt.subplot(131)\n",
        "  plt.imshow(input_img)\n",
        "  plt.title(\"Input Image\")\n",
        "  plt.axis('off')\n",
        "\n",
        "  plt.subplot(132)\n",
        "  plt.plot(x_values,y_values)\n",
        "  plt.xlabel(\"Input Pixels\")\n",
        "  plt.ylabel(\"Output Pixels\")\n",
        "  plt.grid(True)\n",
        "\n",
        "  plt.subplot(133)\n",
        "  plt.imshow(output_img)\n",
        "  plt.title(\"Transformed Image\")\n",
        "  plt.axis('off')\n",
        "\n",
        "  plt.savefig(save_as+'.png')\n",
        "\n",
        "\n"
      ],
      "metadata": {
        "id": "Lg_tBz2YgLQu"
      },
      "execution_count": 7,
      "outputs": []
    },
    {
      "cell_type": "code",
      "source": [
        "plot_result(img,img_neg,x_value,y_value,\"negative\")\n"
      ],
      "metadata": {
        "id": "yLFWAmZUln11"
      },
      "execution_count": null,
      "outputs": []
    },
    {
      "cell_type": "markdown",
      "source": [
        "# Log Transformation"
      ],
      "metadata": {
        "id": "aqTkzmibpM79"
      }
    },
    {
      "cell_type": "code",
      "source": [
        "img_log = cv2.imread(\"Fig0305(a)(DFT_no_log).tif\");"
      ],
      "metadata": {
        "id": "7uBMW6AypTW1"
      },
      "execution_count": null,
      "outputs": []
    },
    {
      "cell_type": "code",
      "source": [
        "def logTransform(r, c=1):\n",
        "  return c * np.log(1.0+r)"
      ],
      "metadata": {
        "id": "qVtzpe0epfs6"
      },
      "execution_count": null,
      "outputs": []
    },
    {
      "cell_type": "code",
      "source": [
        "img_log_out = logTransform(img_log)\n",
        "img_log_scaled = scale_image(img_log_out)"
      ],
      "metadata": {
        "id": "IXhygXjJpz-x"
      },
      "execution_count": null,
      "outputs": []
    },
    {
      "cell_type": "code",
      "source": [
        "# required for plotting\n",
        "x_valuess = np.linspace(0, 255, 500)\n",
        "y_valuess = logTransform(x_valuess)\n",
        "\n",
        "plot_result(img_log,img_log_scaled,x_valuess,y_valuess,\"log\")"
      ],
      "metadata": {
        "id": "pq4QerOHqGEQ"
      },
      "execution_count": null,
      "outputs": []
    },
    {
      "cell_type": "markdown",
      "source": [
        "# Power Law (Gamma) Transformation\n"
      ],
      "metadata": {
        "id": "0tmUzReiYdHf"
      }
    },
    {
      "cell_type": "code",
      "source": [
        "spine_image = cv2.imread(\"Fig0308(a)(fractured_spine).tif\")"
      ],
      "metadata": {
        "id": "FUCR0GaaYmeJ"
      },
      "execution_count": 4,
      "outputs": []
    },
    {
      "cell_type": "code",
      "source": [
        "plt.figure(figsize=(12,8))\n",
        "plt.imshow(spine_image)\n",
        "plt.axis('off')"
      ],
      "metadata": {
        "id": "RJXKeZBSZds4"
      },
      "execution_count": null,
      "outputs": []
    },
    {
      "cell_type": "code",
      "source": [
        "def gammaTransform(r,gamma,c=1):\n",
        "  return c * np.power(r,gamma)"
      ],
      "metadata": {
        "id": "lKQGlBd9ZGK7"
      },
      "execution_count": 6,
      "outputs": []
    },
    {
      "cell_type": "code",
      "source": [
        "img_gamma = gammaTransform(spine_image,0.4) # add\n",
        "img_gamma_scaled = scale_image(img_gamma)"
      ],
      "metadata": {
        "id": "gCCOPy1-aBWT"
      },
      "execution_count": 9,
      "outputs": []
    },
    {
      "cell_type": "code",
      "source": [
        "# required for plotting\n",
        "\n",
        "x_valuesss = np.linspace(0, 255, 500)\n",
        "y_valuesss = gammaTransform(x_valuesss,0.4)\n",
        "\n",
        "plot_result(spine_image,img_gamma_scaled,x_valuesss,y_valuesss,\"gamma_0_4\")"
      ],
      "metadata": {
        "id": "a4Yh8BDKaX9Y"
      },
      "execution_count": null,
      "outputs": []
    },
    {
      "cell_type": "code",
      "source": [
        "# defing a function to do gamma transform\n",
        "\n",
        "def performGammaTransform(input_img,gammaValue):\n",
        "  img_gamma = gammaTransform(input_img,gammaValue)\n",
        "  img_gamma_scaled = scale_image(img_gamma)\n",
        "\n",
        "  #required for plotting\n",
        "  x_value4 = np.linspace(0, 255, 500)\n",
        "  y_value4 = gammaTransform(x_value4,gammaValue)\n",
        "\n",
        "  plot_result(input_img,img_gamma_scaled,x_value4,y_value4,\"gamma\"+str(gammaValue))\n",
        "  return img_gamma_scaled"
      ],
      "metadata": {
        "id": "g5Zd1SsMcJXQ"
      },
      "execution_count": 12,
      "outputs": []
    },
    {
      "cell_type": "code",
      "source": [
        "final_images = []\n",
        "\n",
        "for gammaValue in [0.6,0.4,0.3]:\n",
        "  final_images.append(performGammaTransform(spine_image,gammaValue))\n",
        "\n"
      ],
      "metadata": {
        "id": "IFVXCWPyeXNc"
      },
      "execution_count": null,
      "outputs": []
    },
    {
      "cell_type": "markdown",
      "source": [
        "# With gamma > 1\n"
      ],
      "metadata": {
        "id": "SB3Zr6gNgdNh"
      }
    },
    {
      "cell_type": "code",
      "source": [
        "arial_image = cv2.imread(\"Fig0309(a)(washed_out_aerial_image).tif\")"
      ],
      "metadata": {
        "id": "BQGCBXzJgihB"
      },
      "execution_count": 15,
      "outputs": []
    },
    {
      "cell_type": "code",
      "source": [
        "plt.figure(figsize=(10,6))\n",
        "plt.imshow(arial_image)\n",
        "plt.axis('off')"
      ],
      "metadata": {
        "id": "fwKkQZYVgzbh"
      },
      "execution_count": null,
      "outputs": []
    },
    {
      "cell_type": "code",
      "source": [
        "final_image_arial = []\n",
        "\n",
        "for gammaValue in [2,1.5,1.2]:\n",
        "  final_image_arial.append(performGammaTransform(arial_image,gammaValue))"
      ],
      "metadata": {
        "id": "VyjgIn1-hseN"
      },
      "execution_count": null,
      "outputs": []
    },
    {
      "cell_type": "markdown",
      "source": [
        "# Constrast Stretching (piecwise linear transformation)\n"
      ],
      "metadata": {
        "id": "9UVmmZepkgnX"
      }
    },
    {
      "cell_type": "code",
      "source": [
        "im = cv2.imread(\"Fig0310(b)(washed_out_pollen_image).tif\")"
      ],
      "metadata": {
        "id": "BmZRp9HMkwY6"
      },
      "execution_count": 27,
      "outputs": []
    },
    {
      "cell_type": "code",
      "source": [
        "plt.figure(figsize=(10,6))\n",
        "plt.imshow(im)\n",
        "plt.axis('off')"
      ],
      "metadata": {
        "id": "wlESfyvhk9hh"
      },
      "execution_count": null,
      "outputs": []
    },
    {
      "cell_type": "code",
      "source": [
        "def piecewiseLinear(r,r1,s1,r2,s2):\n",
        "  if r < r1:\n",
        "    s = (s1/r1) * r\n",
        "  elif r > r1 and r < r2:\n",
        "    s = ((s2-s1)/(r2-r1)) * (r-r1) + s1\n",
        "  else:\n",
        "    s = ((255-s2)/(255-r2)) * (r-r2) + s2\n",
        "  return int(s)"
      ],
      "metadata": {
        "id": "sj7L4hYZlqhm"
      },
      "execution_count": 29,
      "outputs": []
    },
    {
      "cell_type": "code",
      "source": [
        "piecewiseLinearVec = np.vectorize(piecewiseLinear)"
      ],
      "metadata": {
        "id": "PMlSoFQPo8Mk"
      },
      "execution_count": 30,
      "outputs": []
    },
    {
      "cell_type": "code",
      "source": [
        "x_value5 = np.linspace(0, 255, 500)\n",
        "y_value5 = piecewiseLinearVec(x_value5,80,30,150,190)\n"
      ],
      "metadata": {
        "id": "ORJqnKN9pFBq"
      },
      "execution_count": 32,
      "outputs": []
    },
    {
      "cell_type": "code",
      "source": [
        "transformed_image = piecewiseLinearVec(im,80,30,150,190)"
      ],
      "metadata": {
        "id": "7DVsz7f6pxmW"
      },
      "execution_count": 33,
      "outputs": []
    },
    {
      "cell_type": "code",
      "source": [
        "plot_result(im,transformed_image,x_value5,y_value5,\"piecewise_linear\")"
      ],
      "metadata": {
        "id": "cZKKka9ap9Me"
      },
      "execution_count": null,
      "outputs": []
    },
    {
      "cell_type": "code",
      "source": [
        "m = np.mean(im)\n",
        "\n",
        "transformed_im2 = piecewiseLinearVec(im,m,0,m,255)"
      ],
      "metadata": {
        "id": "KdQ3HSbhskoW"
      },
      "execution_count": 36,
      "outputs": []
    },
    {
      "cell_type": "code",
      "source": [
        "x_value6 = np.linspace(0, 255, 500)\n",
        "y_value6 = piecewiseLinearVec(x_value6,m,0,m,255)"
      ],
      "metadata": {
        "id": "OH8tWJkAsuQu"
      },
      "execution_count": 37,
      "outputs": []
    },
    {
      "cell_type": "code",
      "source": [
        "plot_result(im,transformed_im2,x_value6,y_value6,\"piecewise_linear_mean\")"
      ],
      "metadata": {
        "id": "yA3_b1nks08i"
      },
      "execution_count": null,
      "outputs": []
    }
  ]
}