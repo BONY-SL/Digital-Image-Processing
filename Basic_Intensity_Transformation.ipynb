{
  "nbformat": 4,
  "nbformat_minor": 0,
  "metadata": {
    "colab": {
      "provenance": [],
      "toc_visible": true,
      "authorship_tag": "ABX9TyPZNd+744df3SWuV3f9wmaf",
      "include_colab_link": true
    },
    "kernelspec": {
      "name": "python3",
      "display_name": "Python 3"
    },
    "language_info": {
      "name": "python"
    }
  },
  "cells": [
    {
      "cell_type": "markdown",
      "metadata": {
        "id": "view-in-github",
        "colab_type": "text"
      },
      "source": [
        "<a href=\"https://colab.research.google.com/github/BONY-SL/Digital-Image-Processing/blob/main/Basic_Intensity_Transformation.ipynb\" target=\"_parent\"><img src=\"https://colab.research.google.com/assets/colab-badge.svg\" alt=\"Open In Colab\"/></a>"
      ]
    },
    {
      "cell_type": "code",
      "execution_count": 36,
      "metadata": {
        "id": "CYpmR-xyVDtV"
      },
      "outputs": [],
      "source": [
        "import cv2\n",
        "import numpy as np\n",
        "import matplotlib.pyplot as plt\n",
        "plt.rcParams[\"figure.autolayout\"] = True"
      ]
    },
    {
      "cell_type": "markdown",
      "source": [
        "# Image - Negatives\n"
      ],
      "metadata": {
        "id": "3rbkvR7IcRHh"
      }
    },
    {
      "cell_type": "code",
      "source": [
        "# read image\n",
        "\n",
        "img = cv2.imread(\"Fig0304(a)(breast_digital_Xray).tif\")"
      ],
      "metadata": {
        "id": "6oSK1drMcdHu"
      },
      "execution_count": 29,
      "outputs": []
    },
    {
      "cell_type": "code",
      "source": [
        "def negative(r):\n",
        "  return 255 - r"
      ],
      "metadata": {
        "id": "M0MwRy1fczjo"
      },
      "execution_count": 30,
      "outputs": []
    },
    {
      "cell_type": "code",
      "source": [
        "x_value = np.linspace(0, 255, 500)\n",
        "y_value = negative(x_value)\n",
        "\n",
        "plt.plot(x_value,y_value)\n",
        "plt.xlabel(\"Input Intensity Level\")\n",
        "plt.ylabel(\"Output Intensity Level\")\n",
        "\n",
        "plt.title(\"Negative Transformation\")\n",
        "plt.show()"
      ],
      "metadata": {
        "id": "eqh0nP0Zde5-"
      },
      "execution_count": null,
      "outputs": []
    },
    {
      "cell_type": "code",
      "source": [
        "img_neg = negative(img)\n",
        "plt.imshow(img)"
      ],
      "metadata": {
        "id": "3tWEwEQlfgsn"
      },
      "execution_count": null,
      "outputs": []
    },
    {
      "cell_type": "code",
      "source": [
        "plt.imshow(img_neg)"
      ],
      "metadata": {
        "id": "AoDb_1xHfzEV"
      },
      "execution_count": null,
      "outputs": []
    },
    {
      "cell_type": "code",
      "source": [
        "def scale_image(input_image):\n",
        "  input_image = input_image / np.max(input_image)\n",
        "  input_image = (input_image*255).astype('int')\n",
        "  return input_image\n",
        "\n",
        "\n",
        "def plot_result(input_img , output_img , x_values , y_values ,save_as):\n",
        "\n",
        "  # ploting the graph\n",
        "  plt.figure(figsize= (36,12))\n",
        "\n",
        "  plt.subplot(131)\n",
        "  plt.imshow(input_img)\n",
        "  plt.title(\"Input Image\")\n",
        "  plt.axis('off')\n",
        "\n",
        "  plt.subplot(132)\n",
        "  plt.plot(x_values,y_values)\n",
        "  plt.xlabel(\"Input Pixels\")\n",
        "  plt.ylabel(\"Output Pixels\")\n",
        "  plt.grid(True)\n",
        "\n",
        "  plt.subplot(133)\n",
        "  plt.imshow(output_img)\n",
        "  plt.title(\"Transformed Image\")\n",
        "  plt.axis('off')\n",
        "\n",
        "  plt.savefig(save_as+'.png')\n",
        "\n",
        "\n"
      ],
      "metadata": {
        "id": "Lg_tBz2YgLQu"
      },
      "execution_count": 42,
      "outputs": []
    },
    {
      "cell_type": "code",
      "source": [
        "plot_result(img,img_neg,x_value,y_value,\"negative\")\n"
      ],
      "metadata": {
        "id": "yLFWAmZUln11"
      },
      "execution_count": null,
      "outputs": []
    },
    {
      "cell_type": "markdown",
      "source": [
        "# Log Transformation"
      ],
      "metadata": {
        "id": "aqTkzmibpM79"
      }
    },
    {
      "cell_type": "code",
      "source": [
        "img_log = cv2.imread(\"Fig0305(a)(DFT_no_log).tif\");"
      ],
      "metadata": {
        "id": "7uBMW6AypTW1"
      },
      "execution_count": 52,
      "outputs": []
    },
    {
      "cell_type": "code",
      "source": [
        "def logTransform(r, c=1):\n",
        "  return c * np.log(1.0+r)"
      ],
      "metadata": {
        "id": "qVtzpe0epfs6"
      },
      "execution_count": 53,
      "outputs": []
    },
    {
      "cell_type": "code",
      "source": [
        "img_log_out = logTransform(img_log)\n",
        "img_log_scaled = scale_image(img_log_out)"
      ],
      "metadata": {
        "id": "IXhygXjJpz-x"
      },
      "execution_count": 56,
      "outputs": []
    },
    {
      "cell_type": "code",
      "source": [
        "# required for plotting\n",
        "x_valuess = np.linspace(0, 255, 500)\n",
        "y_valuess = logTransform(x_valuess)\n",
        "\n",
        "plot_result(img_log,img_log_scaled,x_valuess,y_valuess,\"log\")"
      ],
      "metadata": {
        "id": "pq4QerOHqGEQ"
      },
      "execution_count": null,
      "outputs": []
    }
  ]
}