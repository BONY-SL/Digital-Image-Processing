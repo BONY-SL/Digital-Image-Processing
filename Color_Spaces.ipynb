{
  "nbformat": 4,
  "nbformat_minor": 0,
  "metadata": {
    "colab": {
      "provenance": [],
      "authorship_tag": "ABX9TyPjGNnLuURSOO1OBvEJ51Ql",
      "include_colab_link": true
    },
    "kernelspec": {
      "name": "python3",
      "display_name": "Python 3"
    },
    "language_info": {
      "name": "python"
    }
  },
  "cells": [
    {
      "cell_type": "markdown",
      "metadata": {
        "id": "view-in-github",
        "colab_type": "text"
      },
      "source": [
        "<a href=\"https://colab.research.google.com/github/BONY-SL/Digital-Image-Processing/blob/main/Color_Spaces.ipynb\" target=\"_parent\"><img src=\"https://colab.research.google.com/assets/colab-badge.svg\" alt=\"Open In Colab\"/></a>"
      ]
    },
    {
      "cell_type": "code",
      "execution_count": 3,
      "metadata": {
        "id": "JZMsyznIVbEa"
      },
      "outputs": [],
      "source": [
        "import cv2\n",
        "from google.colab.patches import cv2_imshow\n",
        "import numpy as np\n",
        "\n",
        "import matplotlib.pyplot as plt"
      ]
    },
    {
      "cell_type": "code",
      "source": [
        "# load the umage\n",
        "img_rgb = cv2.imread(\"img_bgr.PNG\")\n",
        "\n",
        "#splting the image into different chanles\n",
        "r ,g, b = cv2.split(img_rgb)\n",
        "\n",
        "#Setting the grid size\n",
        "plt.figure(figsize=(10,10))\n",
        "\n",
        "#plotting the original image\n",
        "plt.subplot(221)\n",
        "plt.title(\"Original\")\n",
        "plt.imshow(img_rgb)\n",
        "\n",
        "# plotting the channels\n",
        "plt.subplot(222)\n",
        "plt.title(\"Blue Channel\")\n",
        "plt.imshow(b)\n",
        "\n",
        "plt.subplot(223)\n",
        "plt.title(\"Green Channel\")\n",
        "plt.imshow(g)\n",
        "\n",
        "plt.subplot(224)\n",
        "plt.title(\"Red Channel\")\n",
        "plt.imshow(r)\n",
        "\n"
      ],
      "metadata": {
        "id": "bdIUG0-ZWRkR"
      },
      "execution_count": null,
      "outputs": []
    },
    {
      "cell_type": "code",
      "source": [
        "# Load the image\n",
        "img_hsv = cv2.imread(\"img_hsv.PNG\")\n",
        "\n",
        "# Splitting the image into diffrent channels\n",
        "h, s, v = cv2.split(img_hsv)\n",
        "\n",
        "# Setting the grid size\n",
        "plt.figure(figsize=(10,10))\n",
        "\n",
        "# Plotting the original image\n",
        "plt.subplot(221)\n",
        "plt.title(\"Original\")\n",
        "plt.imshow(img_hsv)\n",
        "\n",
        "plt.subplot(222)\n",
        "plt.title(\"Hue Channel\")\n",
        "plt.imshow(h)\n",
        "\n",
        "plt.subplot(223)\n",
        "plt.title(\"Saturation Channel\")\n",
        "plt.imshow(s)\n",
        "\n",
        "plt.subplot(224)\n",
        "plt.title(\"Value Channel\")\n",
        "plt.imshow(v)"
      ],
      "metadata": {
        "id": "exoW_whEZyeq"
      },
      "execution_count": null,
      "outputs": []
    },
    {
      "cell_type": "code",
      "source": [
        "# Splitting the image info different channels\n",
        "img = cv2.imread(\"img_hls.PNG\")\n",
        "\n",
        "img = cv2.cvtColor(img, cv2.COLOR_BGR2RGB)\n",
        "\n",
        "# Convert RGB to HSL\n",
        "img_hls = cv2.cvtColor(img, cv2.COLOR_RGB2HLS)\n",
        "\n",
        "h, l, s = cv2.split(img_hls)\n",
        "\n",
        "# Setting the grid size\n",
        "plt.figure(figsize=(10,10))\n",
        "\n",
        "# Plotting the Original Image\n",
        "plt.subplot(221)\n",
        "plt.title(\"Original\")\n",
        "plt.imshow(img_hls)\n",
        "\n",
        "plt.subplot(222)\n",
        "plt.title(\"Hue Channel\")\n",
        "plt.imshow(h)\n",
        "\n",
        "plt.subplot(223)\n",
        "plt.title(\"Luminance Channel\")\n",
        "plt.imshow(l)\n",
        "\n",
        "plt.subplot(224)\n",
        "plt.title(\"Saturation Channel\")\n",
        "plt.imshow(s)\n",
        "\n"
      ],
      "metadata": {
        "id": "ifgIkTDGcLY8"
      },
      "execution_count": null,
      "outputs": []
    }
  ]
}