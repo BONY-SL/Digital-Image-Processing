{
  "nbformat": 4,
  "nbformat_minor": 0,
  "metadata": {
    "colab": {
      "provenance": [],
      "authorship_tag": "ABX9TyOYiO45QX+Fn/h8RYK0GWEz",
      "include_colab_link": true
    },
    "kernelspec": {
      "name": "python3",
      "display_name": "Python 3"
    },
    "language_info": {
      "name": "python"
    }
  },
  "cells": [
    {
      "cell_type": "markdown",
      "metadata": {
        "id": "view-in-github",
        "colab_type": "text"
      },
      "source": [
        "<a href=\"https://colab.research.google.com/github/BONY-SL/Digital-Image-Processing/blob/main/Color_Spaces.ipynb\" target=\"_parent\"><img src=\"https://colab.research.google.com/assets/colab-badge.svg\" alt=\"Open In Colab\"/></a>"
      ]
    },
    {
      "cell_type": "code",
      "execution_count": 2,
      "metadata": {
        "id": "JZMsyznIVbEa"
      },
      "outputs": [],
      "source": [
        "import cv2\n",
        "from google.colab.patches import cv2_imshow\n",
        "import numpy as np\n",
        "\n",
        "import matplotlib.pyplot as plt"
      ]
    },
    {
      "cell_type": "code",
      "source": [
        "# load the umage\n",
        "img_rgb = cv2.imread(\"img_bgr.PNG\")\n",
        "\n",
        "#splting the image into different chanles\n",
        "r ,g, b = cv2.split(img_rgb)\n",
        "\n",
        "#Setting the grid size\n",
        "plt.figure(figsize=(10,10))\n",
        "\n",
        "#plotting the original image\n",
        "plt.subplot(221)\n",
        "plt.title(\"Original\")\n",
        "plt.imshow(img_rgb)\n",
        "\n"
      ],
      "metadata": {
        "id": "bdIUG0-ZWRkR"
      },
      "execution_count": null,
      "outputs": []
    }
  ]
}