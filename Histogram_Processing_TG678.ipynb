{
  "nbformat": 4,
  "nbformat_minor": 0,
  "metadata": {
    "colab": {
      "provenance": [],
      "include_colab_link": true
    },
    "kernelspec": {
      "name": "python3",
      "display_name": "Python 3"
    },
    "language_info": {
      "name": "python"
    }
  },
  "cells": [
    {
      "cell_type": "markdown",
      "metadata": {
        "id": "view-in-github",
        "colab_type": "text"
      },
      "source": [
        "<a href=\"https://colab.research.google.com/github/BONY-SL/Digital-Image-Processing/blob/main/Histogram_Processing_TG678.ipynb\" target=\"_parent\"><img src=\"https://colab.research.google.com/assets/colab-badge.svg\" alt=\"Open In Colab\"/></a>"
      ]
    },
    {
      "cell_type": "markdown",
      "source": [
        "# Visualizing image and histogram with OpenCV"
      ],
      "metadata": {
        "id": "mxWNds9etGkm"
      }
    },
    {
      "cell_type": "code",
      "execution_count": 1,
      "metadata": {
        "id": "UrE0s0Stmvf8"
      },
      "outputs": [],
      "source": [
        "import cv2\n",
        "import numpy as np\n",
        "import matplotlib.pyplot as plt\n",
        "from google.colab.patches import cv2_imshow\n"
      ]
    },
    {
      "cell_type": "code",
      "source": [
        "image= cv2.imread(\"mage-with-bad-contrast_Q320.jpg\",cv2.IMREAD_GRAYSCALE)\n",
        "\n",
        "#Calculate histogram\n",
        "histogram=cv2.calcHist([image],[0],None,[256],[0,256])\n",
        "\n",
        "#[0,256] - pixel value range\n",
        "#None - no mask apply\n",
        "#[0] - index of the channel\n",
        "#[256] - Number of bins\n",
        "\n",
        "#display original image\n",
        "plt.figure(figsize=(8,4))\n",
        "plt.subplot(1,2,1)\n",
        "plt.imshow(cv2.cvtColor(image,cv2.COLOR_BGR2RGB))\n",
        "plt.title('Original Image')\n",
        "plt.axis('off')\n",
        "\n",
        "#display the histogram\n",
        "plt.subplot(1,2,2)\n",
        "plt.plot(histogram)\n",
        "plt.title('Histogram')\n",
        "plt.xlabel('Pixel Value')\n",
        "plt.ylabel('Frequency')\n",
        "\n",
        "#show the plots\n",
        "plt.tight_layout()\n",
        "plt.show()\n",
        "\n"
      ],
      "metadata": {
        "id": "thLZSXv-n2Tq"
      },
      "execution_count": null,
      "outputs": []
    },
    {
      "cell_type": "markdown",
      "source": [
        "# Histogram Equalization in OpenCV"
      ],
      "metadata": {
        "id": "2U0j5bXMtWAP"
      }
    },
    {
      "cell_type": "code",
      "source": [
        "#load the image in grayscale\n",
        "image= cv2.imread(\"mage-with-bad-contrast_Q320.jpg\",cv2.IMREAD_GRAYSCALE)\n",
        "\n",
        "#Apply histogram equalization\n",
        "equalized_image=cv2.equalizeHist(image)\n",
        "\n",
        "#display original and equalized images\n",
        "print(\"Original Image\")\n",
        "cv2_imshow(image)\n",
        "\n",
        "print(\"Equalized Image\")\n",
        "cv2_imshow(equalized_image)\n",
        "\n",
        "#Calculate histogram\n",
        "hist_original=cv2.calcHist([image],[0],None,[256],[0,256])\n",
        "hist_equalized=cv2.calcHist([equalized_image],[0],None,[256],[0,256])\n",
        "\n",
        "#plot histogram\n",
        "plt.figure(figsize=(12,4))\n",
        "\n",
        "#original histogram\n",
        "plt.subplot(1,2,1)\n",
        "plt.plot(hist_original,color='gray')\n",
        "plt.title('Histogram of Original image')\n",
        "plt.xlabel(\"Pixel Value\")\n",
        "plt.ylabel(\"Frequency\")\n",
        "\n",
        "#Equalized histogram\n",
        "plt.subplot(1,2,2)\n",
        "plt.plot(hist_equalized,color='black')\n",
        "plt.title(\"Histogram of Equalized Image\")\n",
        "plt.xlabel(\"Pixel Value\")\n",
        "plt.ylabel(\"Frequency\")\n",
        "\n",
        "plt.tight_layout()\n",
        "plt.show()\n"
      ],
      "metadata": {
        "id": "zIlwGt5atEjN"
      },
      "execution_count": null,
      "outputs": []
    },
    {
      "cell_type": "markdown",
      "source": [
        "# CLAHE(Contrast Limited Adaptive Histogram Equivalization)"
      ],
      "metadata": {
        "id": "IN-Ki1l5yUhq"
      }
    },
    {
      "cell_type": "code",
      "source": [
        "img=cv2.imread(\"Q0Tql.png\",cv2.IMREAD_GRAYSCALE)\n",
        "assert img is not None, \"file could not be read,check with os.path.exists()\"\n",
        "cv2_imshow(img);\n",
        "\n",
        "# Apply global histogram\n",
        "equalized_image=cv2.equalizeHist(img)\n",
        "\n",
        "#create a CLAHE object\n",
        "#Adaptive histogram eualization\n",
        "clahe=cv2.createCLAHE(clipLimit=2.0,tileGridSize=(8,8))\n",
        "cl1=clahe.apply(img)\n",
        "\n",
        "cv2_imshow(equalized_image)\n",
        "cv2_imshow(cl1)\n"
      ],
      "metadata": {
        "id": "4qGoH14l0LDX"
      },
      "execution_count": null,
      "outputs": []
    },
    {
      "cell_type": "markdown",
      "source": [
        "Color **Image**"
      ],
      "metadata": {
        "id": "j1t6vR9543rF"
      }
    },
    {
      "cell_type": "code",
      "source": [
        "image=cv2.imread(\"images.jpeg\",cv2.COLOR_RGB2BGR)\n",
        "cv2_imshow(image)\n"
      ],
      "metadata": {
        "id": "_QE2jPtf2iL1"
      },
      "execution_count": null,
      "outputs": []
    },
    {
      "cell_type": "code",
      "source": [
        "B=image[:,:,0]\n",
        "G=image[:,:,1]\n",
        "R=image[:,:,2]"
      ],
      "metadata": {
        "id": "npMXL_jt4TSN"
      },
      "execution_count": 7,
      "outputs": []
    },
    {
      "cell_type": "code",
      "source": [
        "B_histo=cv2.calcHist([image],[0],None,[256],[0,256])\n",
        "G_histo=cv2.calcHist([image],[1],None,[256],[0,256])\n",
        "R_histo=cv2.calcHist([image],[2],None,[256],[0,256])\n"
      ],
      "metadata": {
        "id": "XAqP-EOW42AF"
      },
      "execution_count": 8,
      "outputs": []
    },
    {
      "cell_type": "code",
      "source": [
        "#Visualizing histogram\n",
        "plt.subplot(2,2,1)\n",
        "plt.plot(B_histo,'b')\n",
        "plt.subplot(2,2,2)\n",
        "plt.plot(G_histo,'g')\n",
        "plt.subplot(2,2,3)\n",
        "plt.plot(R_histo,'r')\n",
        "\n"
      ],
      "metadata": {
        "id": "FQt7l_DU5k8H"
      },
      "execution_count": null,
      "outputs": []
    },
    {
      "cell_type": "code",
      "source": [
        "# Load the image\n",
        "imagebird = cv2.imread(\"image.png\",cv2.COLOR_RGB2BGR)\n",
        "cv2_imshow(imagebird)\n"
      ],
      "metadata": {
        "id": "gxw6hOnJ6G5B"
      },
      "execution_count": null,
      "outputs": []
    },
    {
      "cell_type": "code",
      "source": [
        "# seperating colour channels\n",
        "B = imagebird[:,:,0] # blue layer\n",
        "G = imagebird[:,:,1] # green layer\n",
        "R = imagebird[:,:,2] # red layer\n",
        "\n",
        "# equlize each channel seperately\n",
        "B_eq = cv2.equalizeHist(B)\n",
        "G_eq = cv2.equalizeHist(G)\n",
        "R_eq = cv2.equalizeHist(R)\n",
        "\n",
        "# Calculate histograms for each channel seperately\n",
        "B_hist = cv2.calcHist([B_eq],[0],None,[256],[0,256])\n",
        "G_hist = cv2.calcHist([G_eq],[0],None,[256],[0,256])\n",
        "R_hist = cv2.calcHist([R_eq],[0],None,[256],[0,256])\n",
        "\n",
        "# merge the channels and create new image\n",
        "image_eq = cv2.merge((B_eq,G_eq,R_eq))\n",
        "\n",
        "# visualize the equlized channels seperatly\n",
        "\n",
        "plt.imshow(B_eq)\n",
        "plt.title(\"Equlized Image B\")\n",
        "plt.show()\n",
        "plt.imshow(G_eq)\n",
        "plt.title(\"Equlized Image G\")\n",
        "plt.show()\n",
        "plt.imshow(R_eq)\n",
        "plt.title(\"Equlized Image R\")\n",
        "plt.show()"
      ],
      "metadata": {
        "id": "XuYx3h_sx-YQ"
      },
      "execution_count": null,
      "outputs": []
    },
    {
      "cell_type": "code",
      "source": [
        "# visualize the channel histograms seperately\n",
        "plt.subplot(2,2,1)\n",
        "plt.plot(G_hist,'g')\n",
        "plt.subplot(2,2,2)\n",
        "plt.plot(R_hist,'r')\n",
        "plt.subplot(2,2,3)\n",
        "plt.plot(B_hist,'b')\n",
        "\n",
        "# visualize the original and equlized image\n",
        "cv2_imshow(imagebird)\n",
        "cv2_imshow(image_eq)\n"
      ],
      "metadata": {
        "id": "miJHnrfdzp6c"
      },
      "execution_count": null,
      "outputs": []
    }
  ]
}